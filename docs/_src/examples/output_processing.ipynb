{
 "cells": [
  {
   "cell_type": "markdown",
   "metadata": {},
   "source": [
    "# Ansys command output processing"
   ]
  },
  {
   "cell_type": "markdown",
   "metadata": {},
   "source": [
    "You can extract the output of ``Ansys.send`` command in multiple ways. This example demonstrates these various methods."
   ]
  },
  {
   "cell_type": "code",
   "execution_count": 1,
   "metadata": {
    "collapsed": true
   },
   "outputs": [],
   "source": [
    "from pansys import Ansys"
   ]
  },
  {
   "cell_type": "code",
   "execution_count": 2,
   "metadata": {
    "collapsed": true
   },
   "outputs": [],
   "source": [
    "a = Ansys(cleanup=True)"
   ]
  },
  {
   "cell_type": "code",
   "execution_count": 3,
   "metadata": {
    "collapsed": true
   },
   "outputs": [],
   "source": [
    "a.send('/prep7')"
   ]
  },
  {
   "cell_type": "code",
   "execution_count": 6,
   "metadata": {
    "collapsed": true
   },
   "outputs": [],
   "source": [
    "a.send(\"\"\"\n",
    "et,,185\n",
    "et,,186\n",
    "et,,187\n",
    "\"\"\")"
   ]
  },
  {
   "cell_type": "markdown",
   "metadata": {},
   "source": [
    "## The output property"
   ]
  },
  {
   "cell_type": "markdown",
   "metadata": {},
   "source": [
    "After any send command is executed, if you access the ``output`` property of the ``Ansys`` object, you will get the output of the last command.\n",
    "\n",
    "Example shown below."
   ]
  },
  {
   "cell_type": "code",
   "execution_count": 41,
   "metadata": {},
   "outputs": [
    {
     "name": "stdout",
     "output_type": "stream",
     "text": [
      "etlist\r\n",
      "\r\n",
      " LIST ELEMENT TYPES FROM      1 TO      3 BY      1\r\n",
      "\r\n",
      " ELEMENT TYPE      1 IS SOLID185     3-D 8-NODE STRUCTURAL SOLID \r\n",
      "  KEYOPT( 1- 6)=        0      0      0        0      0      0\r\n",
      "  KEYOPT( 7-12)=        0      0      0        0      0      0\r\n",
      "  KEYOPT(13-18)=        0      0      0        0      0      0\r\n",
      "\r\n",
      " ELEMENT TYPE      2 IS SOLID186     3-D 20-NODE STRUCTURAL SOLID\r\n",
      "  KEYOPT( 1- 6)=        0      0      0        0      0      0\r\n",
      "  KEYOPT( 7-12)=        0      0      0        0      0      0\r\n",
      "  KEYOPT(13-18)=        0      0      0        0      0      0\r\n",
      "\r\n",
      " ELEMENT TYPE      3 IS SOLID187     3-D 10-NODE STRUCTURAL SOLID\r\n",
      "  KEYOPT( 1- 6)=        0      0      0        0      0      0\r\n",
      "  KEYOPT( 7-12)=        0      0      0        0      0      0\r\n",
      "  KEYOPT(13-18)=        0      0      0        0      0      0\r\n",
      "\r\n",
      " CURRENT NODAL DOF SET IS  UX    UY    UZ  \r\n",
      "  THREE-DIMENSIONAL MODEL\r\n",
      "\r\n",
      " PREP7:\r\n",
      "\n"
     ]
    }
   ],
   "source": [
    "a.send(\"etlist\")\n",
    "print(a.output)"
   ]
  },
  {
   "cell_type": "markdown",
   "metadata": {},
   "source": [
    "## Live output"
   ]
  },
  {
   "cell_type": "markdown",
   "metadata": {},
   "source": [
    "The output property is accessible only after the command is executed. So it becomes un-usable for commands which take a long time to execute and you want to see the progress live; eg: solution.\n",
    "\n",
    "In such cases, you can use the ``silent`` keyword argument of the ``send`` command as shown below."
   ]
  },
  {
   "cell_type": "code",
   "execution_count": 8,
   "metadata": {},
   "outputs": [
    {
     "name": "stdout",
     "output_type": "stream",
     "text": [
      "etlist\r\n",
      "\r\n",
      " LIST ELEMENT TYPES FROM      1 TO      3 BY      1\r\n",
      "\r\n",
      " ELEMENT TYPE      1 IS SOLID185     3-D 8-NODE STRUCTURAL SOLID \r\n",
      "  KEYOPT( 1- 6)=        0      0      0        0      0      0\r\n",
      "  KEYOPT( 7-12)=        0      0      0        0      0      0\r\n",
      "  KEYOPT(13-18)=        0      0      0        0      0      0\r\n",
      "\r\n",
      " ELEMENT TYPE      2 IS SOLID186     3-D 20-NODE STRUCTURAL SOLID\r\n",
      "  KEYOPT( 1- 6)=        0      0      0        0      0      0\r\n",
      "  KEYOPT( 7-12)=        0      0      0        0      0      0\r\n",
      "  KEYOPT(13-18)=        0      0      0        0      0      0\r\n",
      "\r\n",
      " ELEMENT TYPE      3 IS SOLID187     3-D 10-NODE STRUCTURAL SOLID\r\n",
      "  KEYOPT( 1- 6)=        0      0      0        0      0      0\r\n",
      "  KEYOPT( 7-12)=        0      0      0        0      0      0\r\n",
      "  KEYOPT(13-18)=        0      0      0        0      0      0\n",
      "\n",
      "CURRENT NODAL DOF SET IS  UX    UY    UZ\n",
      "THREE-DIMENSIONAL MODEL\n",
      "\n",
      "PREP7:\n"
     ]
    }
   ],
   "source": [
    "a.send('etlist', silent=False)"
   ]
  },
  {
   "cell_type": "markdown",
   "metadata": {},
   "source": [
    "## The ``output_function``"
   ]
  },
  {
   "cell_type": "markdown",
   "metadata": {},
   "source": [
    "The send command also accepts another keyword arguement called the ``output_function`` which accepts a function. The output of the send command is passed to this function for further processing. By default, the ``output_function`` is set to the ``print`` funtion and hence, the output is printed out.\n",
    "\n",
    "In the following example, a custom ``output_function`` is defined which will convert all the text into lower case."
   ]
  },
  {
   "cell_type": "code",
   "execution_count": 9,
   "metadata": {
    "collapsed": true
   },
   "outputs": [],
   "source": [
    "def output_proc(l):\n",
    "    print(l.lower())"
   ]
  },
  {
   "cell_type": "code",
   "execution_count": 12,
   "metadata": {},
   "outputs": [
    {
     "name": "stdout",
     "output_type": "stream",
     "text": [
      "etlist\r\n",
      "\r\n",
      " list element types from      1 to      3 by      1\r\n",
      "\r\n",
      " element type      1 is solid185     3-d 8-node structural solid \r\n",
      "  keyopt( 1- 6)=        0      0      0        0      0      0\r\n",
      "  keyopt( 7-12)=        0      0      0        0      0      0\r\n",
      "  keyopt(13-18)=        0      0      0        0      0      0\r\n",
      "\r\n",
      " element type      2 is solid186     3-d 20-node structural solid\r\n",
      "  keyopt( 1- 6)=        0      0      0        0      0      0\r\n",
      "  keyopt( 7-12)=        0      0      0        0      0      0\r\n",
      "  keyopt(13-18)=        0      0      0        0      0      0\r\n",
      "\r\n",
      " element type      3 is solid187     3-d 10-node structural solid\r\n",
      "  keyopt( 1- 6)=        0      0      0        0      0      0\r\n",
      "  keyopt( 7-12)=        0      0      0        0      0      0\r\n",
      "  keyopt(13-18)=        0      0      0        0      0      0\n",
      "\n",
      "current nodal dof set is  ux    uy    uz\n",
      "three-dimensional model\n",
      "\n",
      "prep7:\n"
     ]
    }
   ],
   "source": [
    "a.send('etlist', silent=False, output_function=output_proc)"
   ]
  },
  {
   "cell_type": "markdown",
   "metadata": {},
   "source": [
    "You can notice that all the output was converted to lowercase letters."
   ]
  },
  {
   "cell_type": "markdown",
   "metadata": {},
   "source": [
    "## Caveats of the ``output_function``"
   ]
  },
  {
   "cell_type": "markdown",
   "metadata": {},
   "source": [
    "The data transferred to the output function is not line by line. It depends on the refresh rate of ANSYS output and how quickly python is reading it in.\n",
    "\n",
    "The below example demonstrates this issue."
   ]
  },
  {
   "cell_type": "code",
   "execution_count": 25,
   "metadata": {
    "collapsed": true
   },
   "outputs": [],
   "source": [
    "def output_proc2(l):\n",
    "    print(l)\n",
    "    print('---------------------')"
   ]
  },
  {
   "cell_type": "code",
   "execution_count": 38,
   "metadata": {},
   "outputs": [
    {
     "name": "stdout",
     "output_type": "stream",
     "text": [
      "etlist\r\n",
      "\r\n",
      " LIST ELEMENT TYPES FROM      1 TO      3 BY      1\r\n",
      "\r\n",
      " ELEMENT TYPE      1 IS SOLID185     3-D 8-NODE STRUCTURAL SOLID \r\n",
      "  KEYOPT( 1- 6)=        0      0      0        0      0      0\r\n",
      "  KEYOPT( 7-12)=        0      0      0        0      0      0\r\n",
      "  KEYOPT(13-18)=        0      0      0        0      0      0\r\n",
      "\r\n",
      " ELEMENT TYPE      2 IS SOLID186     3-D 20-NODE STRUCTURAL SOLID\r\n",
      "  KEYOPT( 1- 6)=        0      0      0        0      0      0\r\n",
      "  KEYOPT( 7-12)=        0      0      0        0      0      0\r\n",
      "  KEYOPT(13-18)=        0      0      0        0      0      0\r\n",
      "\r\n",
      " ELEMENT TYPE      3 IS SOLID187     3-D 10-NODE STRUCTURAL SOLID\r\n",
      "  KEYOPT( 1- 6)=        0      0      0        0      0      0\r\n",
      "  KEYOPT( 7-12)=        0      0      0        0      0      0\r\n",
      "  KEYOPT(13-18)=        0      0      0        0      0      0\n",
      "---------------------\n",
      "\n",
      "---------------------\n",
      "CURRENT NODAL DOF SET IS  UX    UY    UZ\n",
      "---------------------\n",
      "THREE-DIMENSIONAL MODEL\n",
      "---------------------\n",
      "\n",
      "---------------------\n",
      "PREP7:\n",
      "---------------------\n"
     ]
    }
   ],
   "source": [
    "a.send('etlist', silent=False, output_function=output_proc2)"
   ]
  },
  {
   "cell_type": "markdown",
   "metadata": {},
   "source": [
    "If the input to the ``output_function`` was line by line, you would have seen ``----------------------`` after every line. But that is not the case. This is because the output was read-in as chunks of multiple lines. So, if you want to process line by line, then you will have to split it yourselves by ``\\r\\n``. "
   ]
  },
  {
   "cell_type": "code",
   "execution_count": 43,
   "metadata": {
    "collapsed": true
   },
   "outputs": [],
   "source": [
    "def output_proc3(l):\n",
    "    for line in l.split('\\r\\n'):\n",
    "        print(line)\n",
    "        print('---------------------')"
   ]
  },
  {
   "cell_type": "code",
   "execution_count": 44,
   "metadata": {},
   "outputs": [
    {
     "name": "stdout",
     "output_type": "stream",
     "text": [
      "etlist\n",
      "---------------------\n",
      "\n",
      "---------------------\n",
      " LIST ELEMENT TYPES FROM      1 TO      3 BY      1\n",
      "---------------------\n",
      "\n",
      "---------------------\n",
      " ELEMENT TYPE      1 IS SOLID185     3-D 8-NODE STRUCTURAL SOLID \n",
      "---------------------\n",
      "  KEYOPT( 1- 6)=        0      0      0        0      0      0\n",
      "---------------------\n",
      "  KEYOPT( 7-12)=        0      0      0        0      0      0\n",
      "---------------------\n",
      "  KEYOPT(13-18)=        0      0      0        0      0      0\n",
      "---------------------\n",
      "\n",
      "---------------------\n",
      " ELEMENT TYPE      2 IS SOLID186     3-D 20-NODE STRUCTURAL SOLID\n",
      "---------------------\n",
      "  KEYOPT( 1- 6)=        0      0      0        0      0      0\n",
      "---------------------\n",
      "  KEYOPT( 7-12)=        0      0      0        0      0      0\n",
      "---------------------\n",
      "  KEYOPT(13-18)=        0      0      0        0      0      0\n",
      "---------------------\n",
      "\n",
      "---------------------\n",
      " ELEMENT TYPE      3 IS SOLID187     3-D 10-NODE STRUCTURAL SOLID\n",
      "---------------------\n",
      "  KEYOPT( 1- 6)=        0      0      0        0      0      0\n",
      "---------------------\n",
      "  KEYOPT( 7-12)=        0      0      0        0      0      0\n",
      "---------------------\n",
      "  KEYOPT(13-18)=        0      0      0        0      0      0\n",
      "---------------------\n",
      "\n",
      "---------------------\n",
      "CURRENT NODAL DOF SET IS  UX    UY    UZ\n",
      "---------------------\n",
      "THREE-DIMENSIONAL MODEL\n",
      "---------------------\n",
      "\n",
      "---------------------\n",
      "PREP7:\n",
      "---------------------\n"
     ]
    }
   ],
   "source": [
    "a.send('etlist', silent=False, output_function=output_proc3)"
   ]
  },
  {
   "cell_type": "markdown",
   "metadata": {},
   "source": [
    "If you dont want live updates, you can always use the ``output`` variable."
   ]
  },
  {
   "cell_type": "code",
   "execution_count": 36,
   "metadata": {},
   "outputs": [
    {
     "name": "stdout",
     "output_type": "stream",
     "text": [
      "1 SOLID185 3-D 8-NODE\n",
      "2 SOLID186 3-D 20-NODE\n",
      "3 SOLID187 3-D 10-NODE\n"
     ]
    }
   ],
   "source": [
    "for line in a.output.split('\\r\\n'):\n",
    "    if 'element type ' in line.lower():\n",
    "        temp = [x.strip() for x in line.split()]\n",
    "        print(temp[2], temp[4], temp[5], temp[6])"
   ]
  },
  {
   "cell_type": "markdown",
   "metadata": {
    "collapsed": true
   },
   "source": [
    "## Large outputs"
   ]
  },
  {
   "cell_type": "markdown",
   "metadata": {},
   "source": [
    "If the output of your command is large and you dont want to keep the entire thing in memory, then there is another method called ``get_output`` which will write the output of any command passed to it to a file."
   ]
  },
  {
   "cell_type": "code",
   "execution_count": 45,
   "metadata": {
    "collapsed": true
   },
   "outputs": [],
   "source": [
    "etypes = a.get_output('etlist')"
   ]
  },
  {
   "cell_type": "code",
   "execution_count": 46,
   "metadata": {},
   "outputs": [
    {
     "data": {
      "text/plain": [
       "'/home/yy53393/github/pansys/docs/_src/examples/pansys_20180712125145/out.out'"
      ]
     },
     "execution_count": 46,
     "metadata": {},
     "output_type": "execute_result"
    }
   ],
   "source": [
    "etypes"
   ]
  },
  {
   "cell_type": "code",
   "execution_count": 48,
   "metadata": {},
   "outputs": [
    {
     "name": "stdout",
     "output_type": "stream",
     "text": [
      "\r\n",
      " LIST ELEMENT TYPES FROM      1 TO      3 BY      1\r\n",
      "\r\n",
      " ELEMENT TYPE      1 IS SOLID185     3-D 8-NODE STRUCTURAL SOLID \r\n",
      "  KEYOPT( 1- 6)=        0      0      0        0      0      0\r\n",
      "  KEYOPT( 7-12)=        0      0      0        0      0      0\r\n",
      "  KEYOPT(13-18)=        0      0      0        0      0      0\r\n",
      "\r\n",
      " ELEMENT TYPE      2 IS SOLID186     3-D 20-NODE STRUCTURAL SOLID\r\n",
      "  KEYOPT( 1- 6)=        0      0      0        0      0      0\r\n",
      "  KEYOPT( 7-12)=        0      0      0        0      0      0\r\n",
      "  KEYOPT(13-18)=        0      0      0        0      0      0\r\n",
      "\r\n",
      " ELEMENT TYPE      3 IS SOLID187     3-D 10-NODE STRUCTURAL SOLID\r\n",
      "  KEYOPT( 1- 6)=        0      0      0        0      0      0\r\n",
      "  KEYOPT( 7-12)=        0      0      0        0      0      0\r\n",
      "  KEYOPT(13-18)=        0      0      0        0      0      0\r\n",
      "\r\n",
      " CURRENT NODAL DOF SET IS  UX    UY    UZ  \r\n",
      "  THREE-DIMENSIONAL MODEL\r\n"
     ]
    }
   ],
   "source": [
    "!cat $etypes"
   ]
  },
  {
   "cell_type": "markdown",
   "metadata": {},
   "source": [
    "As you can see, the ``get_output`` command wrote the output to a file called ``out.out`` in your current working directory. This file will get overwritten every time you use ``get_output``. If you want to keep the output file, you should set the ``persist`` keyword argument to true which will produce a unique filename every time."
   ]
  },
  {
   "cell_type": "code",
   "execution_count": 49,
   "metadata": {
    "collapsed": true
   },
   "outputs": [],
   "source": [
    "etypes = a.get_output('etlist', persist=True)"
   ]
  },
  {
   "cell_type": "code",
   "execution_count": 50,
   "metadata": {},
   "outputs": [
    {
     "data": {
      "text/plain": [
       "'/home/yy53393/github/pansys/docs/_src/examples/pansys_20180712125145/e562762c-155f-466c-8970-3c0ee709c2ea'"
      ]
     },
     "execution_count": 50,
     "metadata": {},
     "output_type": "execute_result"
    }
   ],
   "source": [
    "etypes"
   ]
  }
 ],
 "metadata": {
  "kernelspec": {
   "display_name": "Python 3",
   "language": "python",
   "name": "python3"
  },
  "language_info": {
   "codemirror_mode": {
    "name": "ipython",
    "version": 3
   },
   "file_extension": ".py",
   "mimetype": "text/x-python",
   "name": "python",
   "nbconvert_exporter": "python",
   "pygments_lexer": "ipython3",
   "version": "3.6.1"
  }
 },
 "nbformat": 4,
 "nbformat_minor": 2
}
